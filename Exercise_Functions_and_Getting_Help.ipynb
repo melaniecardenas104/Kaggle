{
  "metadata": {
    "kernelspec": {
      "display_name": "Python 3",
      "language": "python",
      "name": "python3"
    },
    "language_info": {
      "name": "python",
      "version": "3.10.12",
      "mimetype": "text/x-python",
      "codemirror_mode": {
        "name": "ipython",
        "version": 3
      },
      "pygments_lexer": "ipython3",
      "nbconvert_exporter": "python",
      "file_extension": ".py"
    },
    "learntools_metadata": {
      "lesson_index": 1,
      "type": "exercise"
    },
    "kaggle": {
      "accelerator": "none",
      "dataSources": [],
      "isInternetEnabled": false,
      "language": "python",
      "sourceType": "notebook",
      "isGpuEnabled": false
    },
    "colab": {
      "name": "Exercise: Functions and Getting Help",
      "provenance": [],
      "include_colab_link": true
    }
  },
  "nbformat_minor": 0,
  "nbformat": 4,
  "cells": [
    {
      "cell_type": "markdown",
      "metadata": {
        "id": "view-in-github",
        "colab_type": "text"
      },
      "source": [
        "<a href=\"https://colab.research.google.com/github/melaniecardenas104/Kaggle/blob/main/Exercise_Functions_and_Getting_Help.ipynb\" target=\"_parent\"><img src=\"https://colab.research.google.com/assets/colab-badge.svg\" alt=\"Open In Colab\"/></a>"
      ]
    },
    {
      "cell_type": "markdown",
      "source": [
        "**This notebook is an exercise in the [Python](https://www.kaggle.com/learn/python) course.  You can reference the tutorial at [this link](https://www.kaggle.com/colinmorris/functions-and-getting-help).**\n",
        "\n",
        "---\n"
      ],
      "metadata": {
        "id": "-S1HXhVj6tg1"
      }
    },
    {
      "cell_type": "markdown",
      "source": [
        "Functions are powerful. Try writing some yourself.\n",
        "\n",
        "As before, don't forget to run the setup code below before jumping into question 1."
      ],
      "metadata": {
        "id": "guwl4r7p6tg4"
      }
    },
    {
      "cell_type": "code",
      "source": [
        "# SETUP. You don't need to worry for now about what this code does or how it works.\n",
        "from learntools.core import binder; binder.bind(globals())\n",
        "from learntools.python.ex2 import *\n",
        "print('Setup complete.')"
      ],
      "metadata": {
        "_kg_hide-input": true,
        "_kg_hide-output": true,
        "trusted": true,
        "execution": {
          "iopub.status.busy": "2025-01-22T06:59:03.556971Z",
          "iopub.execute_input": "2025-01-22T06:59:03.557247Z",
          "iopub.status.idle": "2025-01-22T06:59:04.78444Z",
          "shell.execute_reply.started": "2025-01-22T06:59:03.557192Z",
          "shell.execute_reply": "2025-01-22T06:59:04.783255Z"
        },
        "id": "_xeW2Yae6tg5",
        "outputId": "8e6217b7-0b89-4714-d73f-527d9da4f6e6"
      },
      "outputs": [
        {
          "name": "stdout",
          "text": "Setup complete.\n",
          "output_type": "stream"
        }
      ],
      "execution_count": null
    },
    {
      "cell_type": "markdown",
      "source": [
        "# 1.\n",
        "\n",
        "Complete the body of the following function according to its docstring.\n",
        "\n",
        "HINT: Python has a built-in function `round`."
      ],
      "metadata": {
        "id": "o_IPHZVu6tg8"
      }
    },
    {
      "cell_type": "code",
      "source": [
        "def round_to_two_places(num):\n",
        "    \"\"\"Return the given number rounded to two decimal places.\n",
        "\n",
        "    >>> round_to_two_places(3.14159)\n",
        "    3.14\n",
        "    \"\"\"\n",
        "    # Replace this body with your own code.\n",
        "    # (\"pass\" is a keyword that does literally nothing. We used it as a placeholder\n",
        "    # because after we begin a code block, Python requires at least one line of code)\n",
        "    return round(num, 2)\n",
        "\n",
        "# Check your answer\n",
        "q1.check()"
      ],
      "metadata": {
        "trusted": true,
        "execution": {
          "iopub.status.busy": "2025-01-22T07:08:19.522311Z",
          "iopub.execute_input": "2025-01-22T07:08:19.522707Z",
          "iopub.status.idle": "2025-01-22T07:08:19.531187Z",
          "shell.execute_reply.started": "2025-01-22T07:08:19.522675Z",
          "shell.execute_reply": "2025-01-22T07:08:19.530167Z"
        },
        "id": "rku_HxfU6tg8",
        "outputId": "1c9c3e4d-b370-41f0-db6b-7300b4fc5347"
      },
      "outputs": [
        {
          "output_type": "display_data",
          "data": {
            "text/plain": "<IPython.core.display.Javascript object>",
            "application/javascript": "parent.postMessage({\"jupyterEvent\": \"custom.exercise_interaction\", \"data\": {\"outcomeType\": 1, \"valueTowardsCompletion\": 0.16666666666666666, \"interactionType\": 1, \"questionType\": 2, \"questionId\": \"1_RoundFunctionProblem\", \"learnToolsVersion\": \"0.3.4\", \"failureMessage\": \"\", \"exceptionClass\": \"\", \"trace\": \"\"}}, \"*\")"
          },
          "metadata": {}
        },
        {
          "output_type": "display_data",
          "data": {
            "text/plain": "Correct",
            "text/markdown": "<span style=\"color:#33cc33\">Correct</span>"
          },
          "metadata": {}
        }
      ],
      "execution_count": null
    },
    {
      "cell_type": "code",
      "source": [
        "# Uncomment the following for a hint\n",
        "q1.hint()\n",
        "# Or uncomment the following to peek at the solution\n",
        "#q1.solution()"
      ],
      "metadata": {
        "trusted": true,
        "execution": {
          "iopub.status.busy": "2025-01-22T07:02:28.16658Z",
          "iopub.execute_input": "2025-01-22T07:02:28.166923Z",
          "iopub.status.idle": "2025-01-22T07:02:28.175055Z",
          "shell.execute_reply.started": "2025-01-22T07:02:28.166897Z",
          "shell.execute_reply": "2025-01-22T07:02:28.173891Z"
        },
        "id": "lATko93A6tg9",
        "outputId": "b11e2435-7fdf-4204-fb42-313feb7991ce"
      },
      "outputs": [
        {
          "output_type": "display_data",
          "data": {
            "text/plain": "<IPython.core.display.Javascript object>",
            "application/javascript": "parent.postMessage({\"jupyterEvent\": \"custom.exercise_interaction\", \"data\": {\"interactionType\": 2, \"questionType\": 2, \"questionId\": \"1_RoundFunctionProblem\", \"learnToolsVersion\": \"0.3.4\", \"valueTowardsCompletion\": 0.0, \"failureMessage\": \"\", \"exceptionClass\": \"\", \"trace\": \"\", \"outcomeType\": 4}}, \"*\")"
          },
          "metadata": {}
        },
        {
          "output_type": "display_data",
          "data": {
            "text/plain": "Hint: Run `help(round)` in the console (or in a code cell) to learn more about the round function. You'll need to use the function's optional second argument.",
            "text/markdown": "<span style=\"color:#3366cc\">Hint:</span> Run `help(round)` in the console (or in a code cell) to learn more about the round function. You'll need to use the function's optional second argument."
          },
          "metadata": {}
        }
      ],
      "execution_count": null
    },
    {
      "cell_type": "markdown",
      "source": [
        "# 2.\n",
        "The help for `round` says that `ndigits` (the second argument) may be negative.\n",
        "What do you think will happen when it is? Try some examples in the following cell."
      ],
      "metadata": {
        "id": "jG_Qb-vb6tg9"
      }
    },
    {
      "cell_type": "code",
      "source": [
        "# Put your test code here\n",
        "print(round(1234.567, -1))"
      ],
      "metadata": {
        "trusted": true,
        "execution": {
          "iopub.status.busy": "2025-01-22T07:10:42.437929Z",
          "iopub.execute_input": "2025-01-22T07:10:42.438316Z",
          "iopub.status.idle": "2025-01-22T07:10:42.443667Z",
          "shell.execute_reply.started": "2025-01-22T07:10:42.438284Z",
          "shell.execute_reply": "2025-01-22T07:10:42.4425Z"
        },
        "id": "SKzGHKHt6tg9",
        "outputId": "ca361486-928e-4ac9-9e94-93818e9e9be3"
      },
      "outputs": [
        {
          "name": "stdout",
          "text": "1230.0\n",
          "output_type": "stream"
        }
      ],
      "execution_count": null
    },
    {
      "cell_type": "markdown",
      "source": [
        "Can you think of a case where this would be useful?  Once you're ready, run the code cell below to see the answer and to receive credit for completing the problem."
      ],
      "metadata": {
        "id": "J3u-A4G-6tg-"
      }
    },
    {
      "cell_type": "code",
      "source": [
        "# Check your answer (Run this code cell to receive credit!)\n",
        "print(round(1234.567, -1))\n",
        "q2.solution()"
      ],
      "metadata": {
        "trusted": true,
        "execution": {
          "iopub.status.busy": "2025-01-22T07:10:55.090283Z",
          "iopub.execute_input": "2025-01-22T07:10:55.09062Z",
          "iopub.status.idle": "2025-01-22T07:10:55.099285Z",
          "shell.execute_reply.started": "2025-01-22T07:10:55.090591Z",
          "shell.execute_reply": "2025-01-22T07:10:55.098087Z"
        },
        "id": "dlu5P9MS6tg-",
        "outputId": "c9b148fa-99a7-4ae4-f075-5ac234a0d68b"
      },
      "outputs": [
        {
          "name": "stdout",
          "text": "1230.0\n",
          "output_type": "stream"
        },
        {
          "output_type": "display_data",
          "data": {
            "text/plain": "<IPython.core.display.Javascript object>",
            "application/javascript": "parent.postMessage({\"jupyterEvent\": \"custom.exercise_interaction\", \"data\": {\"interactionType\": 3, \"questionType\": 4, \"questionId\": \"2_RoundNdigitsProblem\", \"learnToolsVersion\": \"0.3.4\", \"valueTowardsCompletion\": 0.0, \"failureMessage\": \"\", \"exceptionClass\": \"\", \"trace\": \"\", \"outcomeType\": 4}}, \"*\")"
          },
          "metadata": {}
        },
        {
          "output_type": "display_data",
          "data": {
            "text/plain": "Solution: As you've seen, `ndigits=-1` rounds to the nearest 10, `ndigits=-2` rounds to the nearest 100 and so on. Where might this be useful? Suppose we're dealing with large numbers:\n\n> The area of Finland is 338,424 km²  \n> The area of Greenland is 2,166,086 km²\n\nWe probably don't care whether it's really 338,424, or 338,425, or 338,177. All those digits of accuracy are just distracting. We can chop them off by calling `round()` with `ndigits=-3`:\n\n> The area of Finland is 338,000 km²  \n> The area of Greenland is 2,166,000 km²\n\n(We'll talk about how we would get the commas later when we talk about string formatting :))",
            "text/markdown": "<span style=\"color:#33cc99\">Solution:</span> As you've seen, `ndigits=-1` rounds to the nearest 10, `ndigits=-2` rounds to the nearest 100 and so on. Where might this be useful? Suppose we're dealing with large numbers:\n\n> The area of Finland is 338,424 km²  \n> The area of Greenland is 2,166,086 km²\n\nWe probably don't care whether it's really 338,424, or 338,425, or 338,177. All those digits of accuracy are just distracting. We can chop them off by calling `round()` with `ndigits=-3`:\n\n> The area of Finland is 338,000 km²  \n> The area of Greenland is 2,166,000 km²\n\n(We'll talk about how we would get the commas later when we talk about string formatting :))\n"
          },
          "metadata": {}
        }
      ],
      "execution_count": null
    },
    {
      "cell_type": "markdown",
      "source": [
        "# 3.\n",
        "\n",
        "In the previous exercise, the candy-sharing friends Alice, Bob and Carol tried to split candies evenly. For the sake of their friendship, any candies left over would be smashed. For example, if they collectively bring home 91 candies, they'll take 30 each and smash 1.\n",
        "\n",
        "Below is a simple function that will calculate the number of candies to smash for *any* number of total candies.\n",
        "\n",
        "Modify it so that it optionally takes a second argument representing the number of friends the candies are being split between. If no second argument is provided, it should assume 3 friends, as before.\n",
        "\n",
        "Update the docstring to reflect this new behaviour."
      ],
      "metadata": {
        "id": "30wm2lbf6tg-"
      }
    },
    {
      "cell_type": "code",
      "source": [
        "def to_smash(total_candies, num_friends=3):\n",
        "    \"\"\"Return the number of leftover candies that must be smashed after distributing\n",
        "    the given number of candies evenly between num_friends friends.\n",
        "\n",
        "    If num_friends is not provided, it defaults to 3.\n",
        "\n",
        "    >>> to_smash(91)\n",
        "    1\n",
        "    >>> to_smash(91, 4)\n",
        "    3\n",
        "    \"\"\"\n",
        "    # Calculate the leftover candies after distributing evenly among num_friends friends\n",
        "    leftovers = total_candies % num_friends\n",
        "    return leftovers\n",
        "\n",
        "# Testing the function with examples\n",
        "print(to_smash(91))    # Output: 1\n",
        "print(to_smash(10))    # Output: 1\n",
        "print(to_smash(91, 4)) # Output: 3\n",
        "\n",
        "# Check your answer\n",
        "q3.check()"
      ],
      "metadata": {
        "trusted": true,
        "execution": {
          "iopub.status.busy": "2025-01-22T07:24:06.371473Z",
          "iopub.execute_input": "2025-01-22T07:24:06.371904Z",
          "iopub.status.idle": "2025-01-22T07:24:06.381825Z",
          "shell.execute_reply.started": "2025-01-22T07:24:06.37187Z",
          "shell.execute_reply": "2025-01-22T07:24:06.380786Z"
        },
        "id": "qX_6OHaV6tg-",
        "outputId": "eeaf908d-3765-4db0-f6b3-fcd53633645a"
      },
      "outputs": [
        {
          "name": "stdout",
          "text": "1\n1\n3\n",
          "output_type": "stream"
        },
        {
          "output_type": "display_data",
          "data": {
            "text/plain": "<IPython.core.display.Javascript object>",
            "application/javascript": "parent.postMessage({\"jupyterEvent\": \"custom.exercise_interaction\", \"data\": {\"outcomeType\": 1, \"valueTowardsCompletion\": 0.16666666666666666, \"interactionType\": 1, \"questionType\": 2, \"questionId\": \"3_CandySmashingFunctionProblem\", \"learnToolsVersion\": \"0.3.4\", \"failureMessage\": \"\", \"exceptionClass\": \"\", \"trace\": \"\"}}, \"*\")"
          },
          "metadata": {}
        },
        {
          "output_type": "display_data",
          "data": {
            "text/plain": "Correct",
            "text/markdown": "<span style=\"color:#33cc33\">Correct</span>"
          },
          "metadata": {}
        }
      ],
      "execution_count": null
    },
    {
      "cell_type": "code",
      "source": [
        "q3.hint()"
      ],
      "metadata": {
        "trusted": true,
        "execution": {
          "iopub.status.busy": "2025-01-22T07:12:26.717068Z",
          "iopub.execute_input": "2025-01-22T07:12:26.717484Z",
          "iopub.status.idle": "2025-01-22T07:12:26.725799Z",
          "shell.execute_reply.started": "2025-01-22T07:12:26.717451Z",
          "shell.execute_reply": "2025-01-22T07:12:26.724577Z"
        },
        "id": "9OQjhSyG6tg_",
        "outputId": "f69844d7-db59-40cc-b761-616a1c8fd10c"
      },
      "outputs": [
        {
          "output_type": "display_data",
          "data": {
            "text/plain": "<IPython.core.display.Javascript object>",
            "application/javascript": "parent.postMessage({\"jupyterEvent\": \"custom.exercise_interaction\", \"data\": {\"interactionType\": 2, \"questionType\": 2, \"questionId\": \"3_CandySmashingFunctionProblem\", \"learnToolsVersion\": \"0.3.4\", \"valueTowardsCompletion\": 0.0, \"failureMessage\": \"\", \"exceptionClass\": \"\", \"trace\": \"\", \"outcomeType\": 4}}, \"*\")"
          },
          "metadata": {}
        },
        {
          "output_type": "display_data",
          "data": {
            "text/plain": "Hint: Refer to the section of the last tutorial notebook where we talked about default arguments",
            "text/markdown": "<span style=\"color:#3366cc\">Hint:</span> Refer to the section of the last tutorial notebook where we talked about default arguments"
          },
          "metadata": {}
        }
      ],
      "execution_count": null
    },
    {
      "cell_type": "code",
      "source": [
        "#q3.solution()"
      ],
      "metadata": {
        "id": "VesRVD6y6tg_"
      },
      "outputs": [],
      "execution_count": null
    },
    {
      "cell_type": "markdown",
      "source": [
        "# 4. (Optional)\n",
        "\n",
        "It may not be fun, but reading and understanding error messages will be an important part of your Python career.\n",
        "\n",
        "Each code cell below contains some commented buggy code. For each cell...\n",
        "\n",
        "1. Read the code and predict what you think will happen when it's run.\n",
        "2. Then uncomment the code and run it to see what happens. (**Tip**: In the kernel editor, you can highlight several lines and press `ctrl`+`/` to toggle commenting.)\n",
        "3. Fix the code (so that it accomplishes its intended purpose without throwing an exception)\n",
        "\n",
        "<!-- TODO: should this be autochecked? Delta is probably pretty small. -->"
      ],
      "metadata": {
        "id": "UtS3hfEc6tg_"
      }
    },
    {
      "cell_type": "code",
      "source": [
        "round_to_two_places(9.9999)"
      ],
      "metadata": {
        "trusted": true,
        "execution": {
          "iopub.status.busy": "2025-01-22T07:25:21.663035Z",
          "iopub.execute_input": "2025-01-22T07:25:21.663421Z",
          "iopub.status.idle": "2025-01-22T07:25:21.669204Z",
          "shell.execute_reply.started": "2025-01-22T07:25:21.663383Z",
          "shell.execute_reply": "2025-01-22T07:25:21.668176Z"
        },
        "id": "GmFKcj2R6tg_",
        "outputId": "f9f60e87-32a5-4ac5-ab15-3febb5c2699a"
      },
      "outputs": [
        {
          "execution_count": 40,
          "output_type": "execute_result",
          "data": {
            "text/plain": "10.0"
          },
          "metadata": {}
        }
      ],
      "execution_count": null
    },
    {
      "cell_type": "code",
      "source": [
        "x = -10\n",
        "y = 5\n",
        "# Which of the two variables above has the smallest absolute value?\n",
        "smallest_abs = min(abs(x), abs(y))"
      ],
      "metadata": {
        "trusted": true,
        "execution": {
          "iopub.status.busy": "2025-01-22T07:29:12.938296Z",
          "iopub.execute_input": "2025-01-22T07:29:12.938652Z",
          "iopub.status.idle": "2025-01-22T07:29:12.943559Z",
          "shell.execute_reply.started": "2025-01-22T07:29:12.938621Z",
          "shell.execute_reply": "2025-01-22T07:29:12.942286Z"
        },
        "id": "dFYC7xzK6thA"
      },
      "outputs": [],
      "execution_count": null
    },
    {
      "cell_type": "code",
      "source": [
        "def f(x):\n",
        "    y = abs(x)\n",
        "    return y\n",
        "\n",
        "print(f(5))"
      ],
      "metadata": {
        "trusted": true,
        "execution": {
          "iopub.status.busy": "2025-01-22T07:26:43.41317Z",
          "iopub.execute_input": "2025-01-22T07:26:43.413552Z",
          "iopub.status.idle": "2025-01-22T07:26:43.419121Z",
          "shell.execute_reply.started": "2025-01-22T07:26:43.413519Z",
          "shell.execute_reply": "2025-01-22T07:26:43.417829Z"
        },
        "id": "2EEjNwGX6thA",
        "outputId": "68241194-448d-4f41-b717-623c88311533"
      },
      "outputs": [
        {
          "name": "stdout",
          "text": "5\n",
          "output_type": "stream"
        }
      ],
      "execution_count": null
    },
    {
      "cell_type": "markdown",
      "source": [
        "# Keep Going\n",
        "\n",
        "Nice job with the code. Next up, you'll learn about *conditionals*, which you'll need to **[write interesting programs](https://www.kaggle.com/colinmorris/booleans-and-conditionals)**."
      ],
      "metadata": {
        "id": "xI44JfNh6thA"
      }
    },
    {
      "cell_type": "markdown",
      "source": [
        "---\n",
        "\n",
        "\n",
        "\n",
        "\n",
        "*Have questions or comments? Visit the [course discussion forum](https://www.kaggle.com/learn/python/discussion) to chat with other learners.*"
      ],
      "metadata": {
        "id": "mc00WZME6thA"
      }
    }
  ]
}