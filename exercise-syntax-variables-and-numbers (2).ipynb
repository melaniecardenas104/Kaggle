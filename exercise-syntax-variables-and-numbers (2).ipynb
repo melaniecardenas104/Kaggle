{
 "cells": [
  {
   "cell_type": "markdown",
   "id": "91f0e332",
   "metadata": {
    "papermill": {
     "duration": 0.00825,
     "end_time": "2025-01-22T06:33:47.154672",
     "exception": false,
     "start_time": "2025-01-22T06:33:47.146422",
     "status": "completed"
    },
    "tags": []
   },
   "source": [
    "**This notebook is an exercise in the [Python](https://www.kaggle.com/learn/python) course.  You can reference the tutorial at [this link](https://www.kaggle.com/colinmorris/hello-python).**\n",
    "\n",
    "---\n"
   ]
  },
  {
   "cell_type": "markdown",
   "id": "f1571972",
   "metadata": {
    "papermill": {
     "duration": 0.005541,
     "end_time": "2025-01-22T06:33:47.166383",
     "exception": false,
     "start_time": "2025-01-22T06:33:47.160842",
     "status": "completed"
    },
    "tags": []
   },
   "source": [
    "Welcome to your first set of Python coding problems.  If this is your first time using Kaggle Notebooks, welcome! \n",
    "\n",
    "Notebooks are composed of blocks (called \"cells\") of text and code. Each of these is editable, though you'll mainly be editing the code cells to answer some questions.\n",
    "\n",
    "To get started, try running the code cell below (by pressing the ► button, or clicking on the cell and pressing ctrl+enter on your keyboard)."
   ]
  },
  {
   "cell_type": "code",
   "execution_count": 1,
   "id": "1b069c28",
   "metadata": {
    "execution": {
     "iopub.execute_input": "2025-01-22T06:33:47.179863Z",
     "iopub.status.busy": "2025-01-22T06:33:47.179405Z",
     "iopub.status.idle": "2025-01-22T06:33:47.186774Z",
     "shell.execute_reply": "2025-01-22T06:33:47.185731Z"
    },
    "papermill": {
     "duration": 0.016081,
     "end_time": "2025-01-22T06:33:47.188325",
     "exception": false,
     "start_time": "2025-01-22T06:33:47.172244",
     "status": "completed"
    },
    "tags": []
   },
   "outputs": [
    {
     "name": "stdout",
     "output_type": "stream",
     "text": [
      "You've successfully run some Python code\n",
      "Congratulations!\n"
     ]
    }
   ],
   "source": [
    "print(\"You've successfully run some Python code\")\n",
    "print(\"Congratulations!\")"
   ]
  },
  {
   "cell_type": "code",
   "execution_count": 2,
   "id": "d3b65d10",
   "metadata": {
    "execution": {
     "iopub.execute_input": "2025-01-22T06:33:47.202077Z",
     "iopub.status.busy": "2025-01-22T06:33:47.201624Z",
     "iopub.status.idle": "2025-01-22T06:33:47.206983Z",
     "shell.execute_reply": "2025-01-22T06:33:47.205884Z"
    },
    "papermill": {
     "duration": 0.013902,
     "end_time": "2025-01-22T06:33:47.208582",
     "exception": false,
     "start_time": "2025-01-22T06:33:47.194680",
     "status": "completed"
    },
    "tags": []
   },
   "outputs": [
    {
     "name": "stdout",
     "output_type": "stream",
     "text": [
      "Ohhhh. I get it now\n"
     ]
    }
   ],
   "source": [
    "print(\"Ohhhh. I get it now\")"
   ]
  },
  {
   "cell_type": "code",
   "execution_count": 3,
   "id": "b3b4e1a1",
   "metadata": {
    "execution": {
     "iopub.execute_input": "2025-01-22T06:33:47.222446Z",
     "iopub.status.busy": "2025-01-22T06:33:47.222007Z",
     "iopub.status.idle": "2025-01-22T06:33:47.227761Z",
     "shell.execute_reply": "2025-01-22T06:33:47.226488Z"
    },
    "papermill": {
     "duration": 0.014724,
     "end_time": "2025-01-22T06:33:47.229498",
     "exception": false,
     "start_time": "2025-01-22T06:33:47.214774",
     "status": "completed"
    },
    "tags": []
   },
   "outputs": [
    {
     "name": "stdout",
     "output_type": "stream",
     "text": [
      "I love Simba\n"
     ]
    }
   ],
   "source": [
    "print(\"I love Simba\")"
   ]
  },
  {
   "cell_type": "markdown",
   "id": "c91f2eac",
   "metadata": {
    "papermill": {
     "duration": 0.005738,
     "end_time": "2025-01-22T06:33:47.241515",
     "exception": false,
     "start_time": "2025-01-22T06:33:47.235777",
     "status": "completed"
    },
    "tags": []
   },
   "source": [
    "Try adding another line of code in the cell above and re-running it. \n",
    "\n",
    "Now let's get a little fancier:  Add a new code cell by clicking on an existing code cell, hitting the escape key, and then hitting the `a` or `b` key.  The `a` key will add a cell above the current cell, and `b` adds a cell below.\n",
    "\n",
    "Great! Now you know how to use Notebooks.\n",
    "\n",
    "Each hands-on exercise starts by setting up our feedback and code checking mechanism. Run the code cell below to do that. Then you'll be ready to move on to question 0."
   ]
  },
  {
   "cell_type": "code",
   "execution_count": 4,
   "id": "b8874323",
   "metadata": {
    "_kg_hide-input": true,
    "_kg_hide-output": true,
    "execution": {
     "iopub.execute_input": "2025-01-22T06:33:47.254850Z",
     "iopub.status.busy": "2025-01-22T06:33:47.254459Z",
     "iopub.status.idle": "2025-01-22T06:33:48.279856Z",
     "shell.execute_reply": "2025-01-22T06:33:48.278645Z"
    },
    "papermill": {
     "duration": 1.034221,
     "end_time": "2025-01-22T06:33:48.281757",
     "exception": false,
     "start_time": "2025-01-22T06:33:47.247536",
     "status": "completed"
    },
    "tags": []
   },
   "outputs": [
    {
     "name": "stdout",
     "output_type": "stream",
     "text": [
      "Setup complete! You're ready to start question 0.\n"
     ]
    }
   ],
   "source": [
    "from learntools.core import binder; binder.bind(globals())\n",
    "from learntools.python.ex1 import *\n",
    "print(\"Setup complete! You're ready to start question 0.\")"
   ]
  },
  {
   "cell_type": "markdown",
   "id": "5c77ddc6",
   "metadata": {
    "papermill": {
     "duration": 0.00593,
     "end_time": "2025-01-22T06:33:48.294139",
     "exception": false,
     "start_time": "2025-01-22T06:33:48.288209",
     "status": "completed"
    },
    "tags": []
   },
   "source": [
    "# 0.\n",
    "\n",
    "*This is a silly question intended as an introduction to the format we use for hands-on exercises throughout all Kaggle courses.*\n",
    "\n",
    "**What is your favorite color? **\n",
    "\n",
    "To complete this question, create a variable called `color` in the cell below with an appropriate value. The function call `q0.check()` (which we've already provided in the cell below) will check your answer."
   ]
  },
  {
   "cell_type": "code",
   "execution_count": 5,
   "id": "f7a66275",
   "metadata": {
    "execution": {
     "iopub.execute_input": "2025-01-22T06:33:48.307979Z",
     "iopub.status.busy": "2025-01-22T06:33:48.307453Z",
     "iopub.status.idle": "2025-01-22T06:33:48.315834Z",
     "shell.execute_reply": "2025-01-22T06:33:48.314768Z"
    },
    "papermill": {
     "duration": 0.017241,
     "end_time": "2025-01-22T06:33:48.317509",
     "exception": false,
     "start_time": "2025-01-22T06:33:48.300268",
     "status": "completed"
    },
    "tags": []
   },
   "outputs": [
    {
     "data": {
      "application/javascript": [
       "parent.postMessage({\"jupyterEvent\": \"custom.exercise_interaction\", \"data\": {\"outcomeType\": 1, \"valueTowardsCompletion\": 0.25, \"interactionType\": 1, \"questionType\": 2, \"questionId\": \"0_ExerciseFormatTutorial\", \"learnToolsVersion\": \"0.3.4\", \"failureMessage\": \"\", \"exceptionClass\": \"\", \"trace\": \"\"}}, \"*\")"
      ],
      "text/plain": [
       "<IPython.core.display.Javascript object>"
      ]
     },
     "metadata": {},
     "output_type": "display_data"
    },
    {
     "data": {
      "text/markdown": [
       "<span style=\"color:#33cc33\">Correct:</span> What?! You got it right without needing a hint or anything? Drats. Well hey, you should still continue to the next step to get some practice asking for a hint and checking solutions. (Even though you obviously don't need any help here.)"
      ],
      "text/plain": [
       "Correct: What?! You got it right without needing a hint or anything? Drats. Well hey, you should still continue to the next step to get some practice asking for a hint and checking solutions. (Even though you obviously don't need any help here.)"
      ]
     },
     "metadata": {},
     "output_type": "display_data"
    }
   ],
   "source": [
    "# create a variable called color with an appropriate value on the line below\n",
    "# (Remember, strings in Python must be enclosed in 'single' or \"double\" quotes)\n",
    "color = \"blue\"\n",
    "\n",
    "# Check your answer\n",
    "q0.check()"
   ]
  },
  {
   "cell_type": "markdown",
   "id": "e5e851ac",
   "metadata": {
    "papermill": {
     "duration": 0.006356,
     "end_time": "2025-01-22T06:33:48.330492",
     "exception": false,
     "start_time": "2025-01-22T06:33:48.324136",
     "status": "completed"
    },
    "tags": []
   },
   "source": [
    "Didn't get the right answer? How do you not even know your own favorite color?!\n",
    "\n",
    "Delete the `#` in the line below to make one of the lines run. You can choose between getting a hint or the full answer by choosing which line to remove the `#` from. \n",
    "\n",
    "Removing the `#` is called uncommenting, because it changes that line from a \"comment\" which Python doesn't run to code, which Python does run."
   ]
  },
  {
   "cell_type": "code",
   "execution_count": 6,
   "id": "d78f8963",
   "metadata": {
    "execution": {
     "iopub.execute_input": "2025-01-22T06:33:48.345981Z",
     "iopub.status.busy": "2025-01-22T06:33:48.345568Z",
     "iopub.status.idle": "2025-01-22T06:33:48.357386Z",
     "shell.execute_reply": "2025-01-22T06:33:48.356115Z"
    },
    "papermill": {
     "duration": 0.022279,
     "end_time": "2025-01-22T06:33:48.359636",
     "exception": false,
     "start_time": "2025-01-22T06:33:48.337357",
     "status": "completed"
    },
    "tags": []
   },
   "outputs": [
    {
     "data": {
      "application/javascript": [
       "parent.postMessage({\"jupyterEvent\": \"custom.exercise_interaction\", \"data\": {\"interactionType\": 2, \"questionType\": 2, \"questionId\": \"0_ExerciseFormatTutorial\", \"learnToolsVersion\": \"0.3.4\", \"valueTowardsCompletion\": 0.0, \"failureMessage\": \"\", \"exceptionClass\": \"\", \"trace\": \"\", \"outcomeType\": 4}}, \"*\")"
      ],
      "text/plain": [
       "<IPython.core.display.Javascript object>"
      ]
     },
     "metadata": {},
     "output_type": "display_data"
    },
    {
     "data": {
      "text/markdown": [
       "<span style=\"color:#3366cc\">Hint:</span> Your favorite color rhymes with *glue*."
      ],
      "text/plain": [
       "Hint: Your favorite color rhymes with *glue*."
      ]
     },
     "metadata": {},
     "output_type": "display_data"
    },
    {
     "data": {
      "application/javascript": [
       "parent.postMessage({\"jupyterEvent\": \"custom.exercise_interaction\", \"data\": {\"interactionType\": 3, \"questionType\": 2, \"questionId\": \"0_ExerciseFormatTutorial\", \"learnToolsVersion\": \"0.3.4\", \"valueTowardsCompletion\": 0.0, \"failureMessage\": \"\", \"exceptionClass\": \"\", \"trace\": \"\", \"outcomeType\": 4}}, \"*\")"
      ],
      "text/plain": [
       "<IPython.core.display.Javascript object>"
      ]
     },
     "metadata": {},
     "output_type": "display_data"
    },
    {
     "data": {
      "text/markdown": [
       "<span style=\"color:#33cc99\">Solution:</span> \n",
       "```python\n",
       "color = \"blue\"\n",
       "```"
      ],
      "text/plain": [
       "Solution: \n",
       "```python\n",
       "color = \"blue\"\n",
       "```"
      ]
     },
     "metadata": {},
     "output_type": "display_data"
    }
   ],
   "source": [
    "q0.hint()\n",
    "q0.solution()"
   ]
  },
  {
   "cell_type": "markdown",
   "id": "b6bd89c2",
   "metadata": {
    "papermill": {
     "duration": 0.006557,
     "end_time": "2025-01-22T06:33:48.373292",
     "exception": false,
     "start_time": "2025-01-22T06:33:48.366735",
     "status": "completed"
    },
    "tags": []
   },
   "source": [
    "The upcoming questions work the same way. The only thing that will change are the question numbers. For the next question, you'll call `q1.check()`, `q1.hint()`, `q1.solution()`, for question 2, you'll call `q2.check()`, and so on."
   ]
  },
  {
   "cell_type": "markdown",
   "id": "edae5958",
   "metadata": {
    "papermill": {
     "duration": 0.006465,
     "end_time": "2025-01-22T06:33:48.386528",
     "exception": false,
     "start_time": "2025-01-22T06:33:48.380063",
     "status": "completed"
    },
    "tags": []
   },
   "source": [
    "<hr/>\n",
    "\n",
    "# 1.\n",
    "\n",
    "Complete the code below. In case it's helpful, here is the table of available arithmetic operations:\n",
    "\n",
    "\n",
    "\n",
    "| Operator     | Name           | Description                                            |\n",
    "|--------------|----------------|--------------------------------------------------------|\n",
    "| ``a + b``    | Addition       | Sum of ``a`` and ``b``                                 |\n",
    "| ``a - b``    | Subtraction    | Difference of ``a`` and ``b``                          |\n",
    "| ``a * b``    | Multiplication | Product of ``a`` and ``b``                             |\n",
    "| ``a / b``    | True division  | Quotient of ``a`` and ``b``                            |\n",
    "| ``a // b``   | Floor division | Quotient of ``a`` and ``b``, removing fractional parts |\n",
    "| ``a % b``    | Modulus        | Integer remainder after division of ``a`` by ``b``     |\n",
    "| ``a ** b``   | Exponentiation | ``a`` raised to the power of ``b``                     |\n",
    "| ``-a``       | Negation       | The negative of ``a``                                  |\n",
    "\n",
    "<span style=\"display:none\"></span>\n"
   ]
  },
  {
   "cell_type": "code",
   "execution_count": 7,
   "id": "5d7b87aa",
   "metadata": {
    "execution": {
     "iopub.execute_input": "2025-01-22T06:33:48.401355Z",
     "iopub.status.busy": "2025-01-22T06:33:48.401022Z",
     "iopub.status.idle": "2025-01-22T06:33:48.408818Z",
     "shell.execute_reply": "2025-01-22T06:33:48.407844Z"
    },
    "papermill": {
     "duration": 0.017041,
     "end_time": "2025-01-22T06:33:48.410304",
     "exception": false,
     "start_time": "2025-01-22T06:33:48.393263",
     "status": "completed"
    },
    "tags": []
   },
   "outputs": [
    {
     "data": {
      "application/javascript": [
       "parent.postMessage({\"jupyterEvent\": \"custom.exercise_interaction\", \"data\": {\"outcomeType\": 1, \"valueTowardsCompletion\": 0.25, \"interactionType\": 1, \"questionType\": 1, \"questionId\": \"1_CircleArea\", \"learnToolsVersion\": \"0.3.4\", \"failureMessage\": \"\", \"exceptionClass\": \"\", \"trace\": \"\"}}, \"*\")"
      ],
      "text/plain": [
       "<IPython.core.display.Javascript object>"
      ]
     },
     "metadata": {},
     "output_type": "display_data"
    },
    {
     "data": {
      "text/markdown": [
       "<span style=\"color:#33cc33\">Correct</span>"
      ],
      "text/plain": [
       "Correct"
      ]
     },
     "metadata": {},
     "output_type": "display_data"
    }
   ],
   "source": [
    "pi = 3.14159 # approximate\n",
    "diameter = 3\n",
    "\n",
    "# Create a variable called 'radius' equal to half the diameter\n",
    "radius = diameter/2\n",
    "\n",
    "# Create a variable called 'area', using the formula for the area of a circle: pi times the radius squared\n",
    "area = pi * radius * radius\n",
    "\n",
    "# Check your answer\n",
    "q1.check()\n"
   ]
  },
  {
   "cell_type": "markdown",
   "id": "32587d1a",
   "metadata": {
    "papermill": {
     "duration": 0.006803,
     "end_time": "2025-01-22T06:33:48.424146",
     "exception": false,
     "start_time": "2025-01-22T06:33:48.417343",
     "status": "completed"
    },
    "tags": []
   },
   "source": []
  },
  {
   "cell_type": "code",
   "execution_count": 8,
   "id": "846634f2",
   "metadata": {
    "execution": {
     "iopub.execute_input": "2025-01-22T06:33:48.439653Z",
     "iopub.status.busy": "2025-01-22T06:33:48.439275Z",
     "iopub.status.idle": "2025-01-22T06:33:48.443186Z",
     "shell.execute_reply": "2025-01-22T06:33:48.441915Z"
    },
    "papermill": {
     "duration": 0.014184,
     "end_time": "2025-01-22T06:33:48.445240",
     "exception": false,
     "start_time": "2025-01-22T06:33:48.431056",
     "status": "completed"
    },
    "tags": []
   },
   "outputs": [],
   "source": [
    "# Uncomment and run the lines below if you need help.\n",
    "#q1.hint()\n",
    "#q1.solution()"
   ]
  },
  {
   "cell_type": "markdown",
   "id": "8130d6d2",
   "metadata": {
    "papermill": {
     "duration": 0.007125,
     "end_time": "2025-01-22T06:33:48.459836",
     "exception": false,
     "start_time": "2025-01-22T06:33:48.452711",
     "status": "completed"
    },
    "tags": []
   },
   "source": [
    "<hr/>\n",
    "\n",
    "# 2.\n",
    "\n",
    "Add code to the following cell to swap variables `a` and `b` (so that `a` refers to the object previously referred to by `b` and vice versa)."
   ]
  },
  {
   "cell_type": "code",
   "execution_count": 9,
   "id": "c2aafd4e",
   "metadata": {
    "execution": {
     "iopub.execute_input": "2025-01-22T06:33:48.475328Z",
     "iopub.status.busy": "2025-01-22T06:33:48.474949Z",
     "iopub.status.idle": "2025-01-22T06:33:48.482845Z",
     "shell.execute_reply": "2025-01-22T06:33:48.481895Z"
    },
    "papermill": {
     "duration": 0.017626,
     "end_time": "2025-01-22T06:33:48.484515",
     "exception": false,
     "start_time": "2025-01-22T06:33:48.466889",
     "status": "completed"
    },
    "tags": []
   },
   "outputs": [
    {
     "data": {
      "application/javascript": [
       "parent.postMessage({\"jupyterEvent\": \"custom.exercise_interaction\", \"data\": {\"outcomeType\": 1, \"valueTowardsCompletion\": 0.25, \"interactionType\": 1, \"questionType\": 2, \"questionId\": \"2_VariableSwap\", \"learnToolsVersion\": \"0.3.4\", \"failureMessage\": \"\", \"exceptionClass\": \"\", \"trace\": \"\"}}, \"*\")"
      ],
      "text/plain": [
       "<IPython.core.display.Javascript object>"
      ]
     },
     "metadata": {},
     "output_type": "display_data"
    },
    {
     "data": {
      "text/markdown": [
       "<span style=\"color:#33cc33\">Correct:</span> \n",
       "\n",
       "The most straightforward solution is to use a third variable to temporarily store one of the old values. e.g.:\n",
       "\n",
       "    tmp = a\n",
       "    a = b\n",
       "    b = tmp\n",
       "\n",
       "If you've read lots of Python code, you might have seen the following trick to swap two variables in one line:\n",
       "\n",
       "    a, b = b, a\n",
       "\n",
       "We'll demystify this bit of Python magic later when we talk about *tuples*."
      ],
      "text/plain": [
       "Correct: \n",
       "\n",
       "The most straightforward solution is to use a third variable to temporarily store one of the old values. e.g.:\n",
       "\n",
       "    tmp = a\n",
       "    a = b\n",
       "    b = tmp\n",
       "\n",
       "If you've read lots of Python code, you might have seen the following trick to swap two variables in one line:\n",
       "\n",
       "    a, b = b, a\n",
       "\n",
       "We'll demystify this bit of Python magic later when we talk about *tuples*."
      ]
     },
     "metadata": {},
     "output_type": "display_data"
    }
   ],
   "source": [
    "########### Setup code - don't touch this part ######################\n",
    "# If you're curious, these are examples of lists. We'll talk about \n",
    "# them in depth a few lessons from now. For now, just know that they're\n",
    "# yet another type of Python object, like int or float.\n",
    "a = [1, 2, 3]\n",
    "b = [3, 2, 1]\n",
    "q2.store_original_ids()\n",
    "######################################################################\n",
    "\n",
    "# Your code goes here. Swap the values to which a and b refer.\n",
    "# If you get stuck, you can always uncomment one or both of the lines in\n",
    "# the next cell for a hint, or to peek at the solution.\n",
    "c = a\n",
    "a = b\n",
    "b = c\n",
    "######################################################################\n",
    "\n",
    "# Check your answer\n",
    "q2.check()"
   ]
  },
  {
   "cell_type": "code",
   "execution_count": 10,
   "id": "84eac208",
   "metadata": {
    "execution": {
     "iopub.execute_input": "2025-01-22T06:33:48.502104Z",
     "iopub.status.busy": "2025-01-22T06:33:48.501391Z",
     "iopub.status.idle": "2025-01-22T06:33:48.509427Z",
     "shell.execute_reply": "2025-01-22T06:33:48.508417Z"
    },
    "papermill": {
     "duration": 0.01893,
     "end_time": "2025-01-22T06:33:48.511371",
     "exception": false,
     "start_time": "2025-01-22T06:33:48.492441",
     "status": "completed"
    },
    "tags": []
   },
   "outputs": [
    {
     "data": {
      "application/javascript": [
       "parent.postMessage({\"jupyterEvent\": \"custom.exercise_interaction\", \"data\": {\"interactionType\": 2, \"questionType\": 2, \"questionId\": \"2_VariableSwap\", \"learnToolsVersion\": \"0.3.4\", \"valueTowardsCompletion\": 0.0, \"failureMessage\": \"\", \"exceptionClass\": \"\", \"trace\": \"\", \"outcomeType\": 4}}, \"*\")"
      ],
      "text/plain": [
       "<IPython.core.display.Javascript object>"
      ]
     },
     "metadata": {},
     "output_type": "display_data"
    },
    {
     "data": {
      "text/markdown": [
       "<span style=\"color:#3366cc\">Hint:</span> Try using a third variable."
      ],
      "text/plain": [
       "Hint: Try using a third variable."
      ]
     },
     "metadata": {},
     "output_type": "display_data"
    }
   ],
   "source": [
    "q2.hint()"
   ]
  },
  {
   "cell_type": "code",
   "execution_count": 11,
   "id": "34eb0a9e",
   "metadata": {
    "execution": {
     "iopub.execute_input": "2025-01-22T06:33:48.528029Z",
     "iopub.status.busy": "2025-01-22T06:33:48.527640Z",
     "iopub.status.idle": "2025-01-22T06:33:48.535634Z",
     "shell.execute_reply": "2025-01-22T06:33:48.534616Z"
    },
    "papermill": {
     "duration": 0.018209,
     "end_time": "2025-01-22T06:33:48.537399",
     "exception": false,
     "start_time": "2025-01-22T06:33:48.519190",
     "status": "completed"
    },
    "tags": []
   },
   "outputs": [
    {
     "data": {
      "application/javascript": [
       "parent.postMessage({\"jupyterEvent\": \"custom.exercise_interaction\", \"data\": {\"interactionType\": 3, \"questionType\": 2, \"questionId\": \"2_VariableSwap\", \"learnToolsVersion\": \"0.3.4\", \"valueTowardsCompletion\": 0.0, \"failureMessage\": \"\", \"exceptionClass\": \"\", \"trace\": \"\", \"outcomeType\": 4}}, \"*\")"
      ],
      "text/plain": [
       "<IPython.core.display.Javascript object>"
      ]
     },
     "metadata": {},
     "output_type": "display_data"
    },
    {
     "data": {
      "text/markdown": [
       "<span style=\"color:#33cc99\">Solution:</span> The most straightforward solution is to use a third variable to temporarily store one of the old values. e.g.:\n",
       "\n",
       "    tmp = a\n",
       "    a = b\n",
       "    b = tmp\n",
       "\n",
       "If you've read lots of Python code, you might have seen the following trick to swap two variables in one line:\n",
       "\n",
       "    a, b = b, a\n",
       "\n",
       "We'll demystify this bit of Python magic later when we talk about *tuples*."
      ],
      "text/plain": [
       "Solution: The most straightforward solution is to use a third variable to temporarily store one of the old values. e.g.:\n",
       "\n",
       "    tmp = a\n",
       "    a = b\n",
       "    b = tmp\n",
       "\n",
       "If you've read lots of Python code, you might have seen the following trick to swap two variables in one line:\n",
       "\n",
       "    a, b = b, a\n",
       "\n",
       "We'll demystify this bit of Python magic later when we talk about *tuples*."
      ]
     },
     "metadata": {},
     "output_type": "display_data"
    }
   ],
   "source": [
    "q2.solution()"
   ]
  },
  {
   "cell_type": "markdown",
   "id": "5c74b10c",
   "metadata": {
    "papermill": {
     "duration": 0.007525,
     "end_time": "2025-01-22T06:33:48.552987",
     "exception": false,
     "start_time": "2025-01-22T06:33:48.545462",
     "status": "completed"
    },
    "tags": []
   },
   "source": [
    "<hr/>\n",
    "\n",
    "# 3a.\n",
    "\n",
    "Add parentheses to the following expression so that it evaluates to 1."
   ]
  },
  {
   "cell_type": "code",
   "execution_count": 12,
   "id": "5f8fc10e",
   "metadata": {
    "execution": {
     "iopub.execute_input": "2025-01-22T06:33:48.570044Z",
     "iopub.status.busy": "2025-01-22T06:33:48.569626Z",
     "iopub.status.idle": "2025-01-22T06:33:48.575849Z",
     "shell.execute_reply": "2025-01-22T06:33:48.574664Z"
    },
    "papermill": {
     "duration": 0.016735,
     "end_time": "2025-01-22T06:33:48.577555",
     "exception": false,
     "start_time": "2025-01-22T06:33:48.560820",
     "status": "completed"
    },
    "tags": []
   },
   "outputs": [
    {
     "data": {
      "text/plain": [
       "1"
      ]
     },
     "execution_count": 12,
     "metadata": {},
     "output_type": "execute_result"
    }
   ],
   "source": [
    "(5 - 3) // 2"
   ]
  },
  {
   "cell_type": "code",
   "execution_count": 13,
   "id": "5dc99e38",
   "metadata": {
    "execution": {
     "iopub.execute_input": "2025-01-22T06:33:48.595932Z",
     "iopub.status.busy": "2025-01-22T06:33:48.595406Z",
     "iopub.status.idle": "2025-01-22T06:33:48.600061Z",
     "shell.execute_reply": "2025-01-22T06:33:48.598665Z"
    },
    "papermill": {
     "duration": 0.0158,
     "end_time": "2025-01-22T06:33:48.602136",
     "exception": false,
     "start_time": "2025-01-22T06:33:48.586336",
     "status": "completed"
    },
    "tags": []
   },
   "outputs": [],
   "source": [
    "#q3.a.hint()"
   ]
  },
  {
   "cell_type": "code",
   "execution_count": 14,
   "id": "129a8081",
   "metadata": {
    "execution": {
     "iopub.execute_input": "2025-01-22T06:33:48.619753Z",
     "iopub.status.busy": "2025-01-22T06:33:48.619402Z",
     "iopub.status.idle": "2025-01-22T06:33:48.627853Z",
     "shell.execute_reply": "2025-01-22T06:33:48.626752Z"
    },
    "papermill": {
     "duration": 0.019136,
     "end_time": "2025-01-22T06:33:48.629529",
     "exception": false,
     "start_time": "2025-01-22T06:33:48.610393",
     "status": "completed"
    },
    "tags": []
   },
   "outputs": [
    {
     "data": {
      "application/javascript": [
       "parent.postMessage({\"jupyterEvent\": \"custom.exercise_interaction\", \"data\": {\"interactionType\": 3, \"questionType\": 4, \"questionId\": \"3.1_ArithmeticParensEasy\", \"learnToolsVersion\": \"0.3.4\", \"valueTowardsCompletion\": 0.0, \"failureMessage\": \"\", \"exceptionClass\": \"\", \"trace\": \"\", \"outcomeType\": 4}}, \"*\")"
      ],
      "text/plain": [
       "<IPython.core.display.Javascript object>"
      ]
     },
     "metadata": {},
     "output_type": "display_data"
    },
    {
     "data": {
      "text/markdown": [
       "<span style=\"color:#33cc99\">Solution:</span> \n",
       "```python\n",
       "(5 - 3) // 2\n",
       "```"
      ],
      "text/plain": [
       "Solution: \n",
       "```python\n",
       "(5 - 3) // 2\n",
       "```"
      ]
     },
     "metadata": {},
     "output_type": "display_data"
    }
   ],
   "source": [
    "# Check your answer (Run this code cell to receive credit!)\n",
    "q3.a.solution()"
   ]
  },
  {
   "cell_type": "markdown",
   "id": "ad36cc4c",
   "metadata": {
    "papermill": {
     "duration": 0.007617,
     "end_time": "2025-01-22T06:33:48.645585",
     "exception": false,
     "start_time": "2025-01-22T06:33:48.637968",
     "status": "completed"
    },
    "tags": []
   },
   "source": [
    "# 3b.  <span title=\"A bit spicy\" style=\"color: darkgreen \">🌶️</span>\n",
    "\n",
    "<small>Questions, like this one, marked a spicy pepper are a bit harder.</small>\n",
    "\n",
    "Add parentheses to the following expression so that it evaluates to 0."
   ]
  },
  {
   "cell_type": "code",
   "execution_count": 15,
   "id": "1440ac68",
   "metadata": {
    "execution": {
     "iopub.execute_input": "2025-01-22T06:33:48.664412Z",
     "iopub.status.busy": "2025-01-22T06:33:48.664039Z",
     "iopub.status.idle": "2025-01-22T06:33:48.669887Z",
     "shell.execute_reply": "2025-01-22T06:33:48.668589Z"
    },
    "papermill": {
     "duration": 0.017198,
     "end_time": "2025-01-22T06:33:48.671559",
     "exception": false,
     "start_time": "2025-01-22T06:33:48.654361",
     "status": "completed"
    },
    "tags": []
   },
   "outputs": [
    {
     "data": {
      "text/plain": [
       "0"
      ]
     },
     "execution_count": 15,
     "metadata": {},
     "output_type": "execute_result"
    }
   ],
   "source": [
    "8 - (3 * 2) - (1 + 1)"
   ]
  },
  {
   "cell_type": "code",
   "execution_count": 16,
   "id": "586a4dbe",
   "metadata": {
    "execution": {
     "iopub.execute_input": "2025-01-22T06:33:48.690328Z",
     "iopub.status.busy": "2025-01-22T06:33:48.689948Z",
     "iopub.status.idle": "2025-01-22T06:33:48.697684Z",
     "shell.execute_reply": "2025-01-22T06:33:48.696632Z"
    },
    "papermill": {
     "duration": 0.019127,
     "end_time": "2025-01-22T06:33:48.699336",
     "exception": false,
     "start_time": "2025-01-22T06:33:48.680209",
     "status": "completed"
    },
    "tags": []
   },
   "outputs": [
    {
     "data": {
      "application/javascript": [
       "parent.postMessage({\"jupyterEvent\": \"custom.exercise_interaction\", \"data\": {\"interactionType\": 2, \"questionType\": 4, \"questionId\": \"3.2_ArithmeticParensHard\", \"learnToolsVersion\": \"0.3.4\", \"valueTowardsCompletion\": 0.0, \"failureMessage\": \"\", \"exceptionClass\": \"\", \"trace\": \"\", \"outcomeType\": 4}}, \"*\")"
      ],
      "text/plain": [
       "<IPython.core.display.Javascript object>"
      ]
     },
     "metadata": {},
     "output_type": "display_data"
    },
    {
     "data": {
      "text/markdown": [
       "<span style=\"color:#3366cc\">Hint:</span> You may need to use several pairs of parentheses."
      ],
      "text/plain": [
       "Hint: You may need to use several pairs of parentheses."
      ]
     },
     "metadata": {},
     "output_type": "display_data"
    }
   ],
   "source": [
    "q3.b.hint()"
   ]
  },
  {
   "cell_type": "code",
   "execution_count": 17,
   "id": "005f073d",
   "metadata": {
    "execution": {
     "iopub.execute_input": "2025-01-22T06:33:48.717305Z",
     "iopub.status.busy": "2025-01-22T06:33:48.716976Z",
     "iopub.status.idle": "2025-01-22T06:33:48.723663Z",
     "shell.execute_reply": "2025-01-22T06:33:48.722774Z"
    },
    "papermill": {
     "duration": 0.017327,
     "end_time": "2025-01-22T06:33:48.725201",
     "exception": false,
     "start_time": "2025-01-22T06:33:48.707874",
     "status": "completed"
    },
    "tags": []
   },
   "outputs": [
    {
     "data": {
      "application/javascript": [
       "parent.postMessage({\"jupyterEvent\": \"custom.exercise_interaction\", \"data\": {\"interactionType\": 3, \"questionType\": 4, \"questionId\": \"3.2_ArithmeticParensHard\", \"learnToolsVersion\": \"0.3.4\", \"valueTowardsCompletion\": 0.0, \"failureMessage\": \"\", \"exceptionClass\": \"\", \"trace\": \"\", \"outcomeType\": 4}}, \"*\")"
      ],
      "text/plain": [
       "<IPython.core.display.Javascript object>"
      ]
     },
     "metadata": {},
     "output_type": "display_data"
    },
    {
     "data": {
      "text/markdown": [
       "<span style=\"color:#33cc99\">Solution:</span> `(8 - 3) * (2 - (1 + 1))` is one solution. There may be others."
      ],
      "text/plain": [
       "Solution: `(8 - 3) * (2 - (1 + 1))` is one solution. There may be others."
      ]
     },
     "metadata": {},
     "output_type": "display_data"
    }
   ],
   "source": [
    "# Check your answer (Run this code cell to receive credit!)\n",
    "q3.b.solution()"
   ]
  },
  {
   "cell_type": "markdown",
   "id": "b2a02355",
   "metadata": {
    "papermill": {
     "duration": 0.008168,
     "end_time": "2025-01-22T06:33:48.742160",
     "exception": false,
     "start_time": "2025-01-22T06:33:48.733992",
     "status": "completed"
    },
    "tags": []
   },
   "source": [
    "<hr/>\n",
    "\n",
    "# 4. \n",
    "Alice, Bob and Carol have agreed to pool their Halloween candy and split it evenly among themselves.\n",
    "For the sake of their friendship, any candies left over will be smashed. For example, if they collectively\n",
    "bring home 91 candies, they'll take 30 each and smash 1.\n",
    "\n",
    "Write an arithmetic expression below to calculate how many candies they must smash for a given haul."
   ]
  },
  {
   "cell_type": "code",
   "execution_count": 18,
   "id": "b9dc021b",
   "metadata": {
    "execution": {
     "iopub.execute_input": "2025-01-22T06:33:48.761471Z",
     "iopub.status.busy": "2025-01-22T06:33:48.761120Z",
     "iopub.status.idle": "2025-01-22T06:33:48.768854Z",
     "shell.execute_reply": "2025-01-22T06:33:48.767886Z"
    },
    "papermill": {
     "duration": 0.019476,
     "end_time": "2025-01-22T06:33:48.770584",
     "exception": false,
     "start_time": "2025-01-22T06:33:48.751108",
     "status": "completed"
    },
    "tags": []
   },
   "outputs": [
    {
     "data": {
      "application/javascript": [
       "parent.postMessage({\"jupyterEvent\": \"custom.exercise_interaction\", \"data\": {\"outcomeType\": 1, \"valueTowardsCompletion\": 0.25, \"interactionType\": 1, \"questionType\": 1, \"questionId\": \"4_CandySplitting\", \"learnToolsVersion\": \"0.3.4\", \"failureMessage\": \"\", \"exceptionClass\": \"\", \"trace\": \"\"}}, \"*\")"
      ],
      "text/plain": [
       "<IPython.core.display.Javascript object>"
      ]
     },
     "metadata": {},
     "output_type": "display_data"
    },
    {
     "data": {
      "text/markdown": [
       "<span style=\"color:#33cc33\">Correct</span>"
      ],
      "text/plain": [
       "Correct"
      ]
     },
     "metadata": {},
     "output_type": "display_data"
    }
   ],
   "source": [
    "# Variables representing the number of candies collected by alice, bob, and carol\n",
    "alice_candies = 121\n",
    "bob_candies = 77\n",
    "carol_candies = 109\n",
    "\n",
    "# Your code goes here! Replace the right-hand side of this assignment with an expression\n",
    "# involving alice_candies, bob_candies, and carol_candies\n",
    "to_smash = (alice_candies + bob_candies + carol_candies) % 3\n",
    "\n",
    "# Check your answer\n",
    "q4.check()"
   ]
  },
  {
   "cell_type": "code",
   "execution_count": 19,
   "id": "8e6a497b",
   "metadata": {
    "execution": {
     "iopub.execute_input": "2025-01-22T06:33:48.789613Z",
     "iopub.status.busy": "2025-01-22T06:33:48.789288Z",
     "iopub.status.idle": "2025-01-22T06:33:48.793108Z",
     "shell.execute_reply": "2025-01-22T06:33:48.791933Z"
    },
    "papermill": {
     "duration": 0.015202,
     "end_time": "2025-01-22T06:33:48.794826",
     "exception": false,
     "start_time": "2025-01-22T06:33:48.779624",
     "status": "completed"
    },
    "tags": []
   },
   "outputs": [],
   "source": [
    "#q4.hint()\n",
    "#q4.solution()"
   ]
  },
  {
   "cell_type": "markdown",
   "id": "8bac222d",
   "metadata": {
    "papermill": {
     "duration": 0.00851,
     "end_time": "2025-01-22T06:33:48.812630",
     "exception": false,
     "start_time": "2025-01-22T06:33:48.804120",
     "status": "completed"
    },
    "tags": []
   },
   "source": [
    "# Keep Going\n",
    "\n",
    "Next up, you'll **[learn to write new functions and understand functions others write](https://www.kaggle.com/colinmorris/functions-and-getting-help)**. This will make you at least 10 times more productive as a Python programmer. "
   ]
  },
  {
   "cell_type": "markdown",
   "id": "f2a2698c",
   "metadata": {
    "papermill": {
     "duration": 0.008431,
     "end_time": "2025-01-22T06:33:48.830458",
     "exception": false,
     "start_time": "2025-01-22T06:33:48.822027",
     "status": "completed"
    },
    "tags": []
   },
   "source": [
    "---\n",
    "\n",
    "\n",
    "\n",
    "\n",
    "*Have questions or comments? Visit the [course discussion forum](https://www.kaggle.com/learn/python/discussion) to chat with other learners.*"
   ]
  }
 ],
 "metadata": {
  "kaggle": {
   "accelerator": "none",
   "dataSources": [],
   "isGpuEnabled": false,
   "isInternetEnabled": false,
   "language": "python",
   "sourceType": "notebook"
  },
  "kernelspec": {
   "display_name": "Python 3",
   "language": "python",
   "name": "python3"
  },
  "language_info": {
   "codemirror_mode": {
    "name": "ipython",
    "version": 3
   },
   "file_extension": ".py",
   "mimetype": "text/x-python",
   "name": "python",
   "nbconvert_exporter": "python",
   "pygments_lexer": "ipython3",
   "version": "3.10.12"
  },
  "learntools_metadata": {
   "lesson_index": 0,
   "type": "exercise"
  },
  "papermill": {
   "default_parameters": {},
   "duration": 5.117287,
   "end_time": "2025-01-22T06:33:49.360961",
   "environment_variables": {},
   "exception": null,
   "input_path": "__notebook__.ipynb",
   "output_path": "__notebook__.ipynb",
   "parameters": {},
   "start_time": "2025-01-22T06:33:44.243674",
   "version": "2.6.0"
  }
 },
 "nbformat": 4,
 "nbformat_minor": 5
}
